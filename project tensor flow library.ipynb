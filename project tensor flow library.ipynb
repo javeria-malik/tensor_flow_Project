{
 "cells": [
  {
   "cell_type": "markdown",
   "id": "cf834730",
   "metadata": {},
   "source": [
    "TensorFlow gives you the flexibility and control with features like the Keras Functional API and Model Subclassing API for creation of complex topologies"
   ]
  },
  {
   "cell_type": "code",
   "execution_count": 4,
   "id": "f7a2176e",
   "metadata": {},
   "outputs": [],
   "source": [
    "import tensorflow as tf"
   ]
  },
  {
   "cell_type": "code",
   "execution_count": 5,
   "id": "f897b1fa",
   "metadata": {},
   "outputs": [
    {
     "name": "stdout",
     "output_type": "stream",
     "text": [
      "tensorflow version 2.12.0\n"
     ]
    }
   ],
   "source": [
    "print(\"tensorflow version\",tf.__version__)"
   ]
  },
  {
   "cell_type": "code",
   "execution_count": 6,
   "id": "68dc764e",
   "metadata": {},
   "outputs": [],
   "source": [
    "#load data set:data set of MNIST DATA SET\n",
    "mnist = tf.keras.datasets.mnist\n",
    "(x_train,y_train),(x_test,y_test)=mnist.load_data()\n",
    "x_train,x_test = x_train/255.0 , x_test/255.0"
   ]
  },
  {
   "cell_type": "markdown",
   "id": "7c65562c",
   "metadata": {},
   "source": [
    "build tf.keras.sequential model"
   ]
  },
  {
   "cell_type": "code",
   "execution_count": 8,
   "id": "8319c3b5",
   "metadata": {},
   "outputs": [],
   "source": [
    "model=tf.keras.models.Sequential([\n",
    "    tf.keras.layers.Flatten(input_shape=(28,28)),#convert to 2D to 1D\n",
    "    tf.keras.layers.Dense(128,activation='relu'),#performs linear operstion and  relu function use to introduce linearity\n",
    "    tf.keras.layers.Dropout(0.2),#use to  prevent overfitting in neural network models\n",
    "    tf.keras.layers.Dense(10)\n",
    "]) # tensor flow is composed of layers here Flatten,DEnse and dropout are layers"
   ]
  },
  {
   "cell_type": "code",
   "execution_count": 9,
   "id": "b572e408",
   "metadata": {},
   "outputs": [
    {
     "data": {
      "text/plain": [
       "array([[-0.6153436 ,  0.00541205, -0.1261281 , -0.13369784,  0.32420993,\n",
       "        -0.68975544,  0.22558253, -0.78242266,  0.4240322 , -0.49366078]],\n",
       "      dtype=float32)"
      ]
     },
     "execution_count": 9,
     "metadata": {},
     "output_type": "execute_result"
    }
   ],
   "source": [
    "predictions=model(x_train[:1]).numpy() #return the vectors of logits and log outs scores\n",
    "predictions#.numpy() is use to convert output of tensor flow to numpy array"
   ]
  },
  {
   "cell_type": "markdown",
   "id": "c483dfa0",
   "metadata": {},
   "source": [
    "tf.nn.softmax function use to convert this logits to probabilities"
   ]
  },
  {
   "cell_type": "code",
   "execution_count": 10,
   "id": "5f5e3cf5",
   "metadata": {},
   "outputs": [
    {
     "data": {
      "text/plain": [
       "array([[0.05981317, 0.11127243, 0.09755744, 0.09682174, 0.15305226,\n",
       "        0.05552393, 0.13867763, 0.05060988, 0.16911884, 0.06755274]],\n",
       "      dtype=float32)"
      ]
     },
     "execution_count": 10,
     "metadata": {},
     "output_type": "execute_result"
    }
   ],
   "source": [
    "tf.nn.softmax(predictions).numpy()"
   ]
  },
  {
   "cell_type": "markdown",
   "id": "7cc16948",
   "metadata": {},
   "source": [
    "In TensorFlow, a vector is a one-dimensional array-like data structure that contains elements of the same data type. "
   ]
  },
  {
   "cell_type": "code",
   "execution_count": 11,
   "id": "d3ee37ab",
   "metadata": {},
   "outputs": [],
   "source": [
    "loss_fn = tf.keras.losses.SparseCategoricalCrossentropy(from_logits=True)"
   ]
  },
  {
   "cell_type": "code",
   "execution_count": 12,
   "id": "d3d8ea88",
   "metadata": {},
   "outputs": [
    {
     "data": {
      "text/plain": [
       "2.8909411"
      ]
     },
     "execution_count": 12,
     "metadata": {},
     "output_type": "execute_result"
    }
   ],
   "source": [
    "loss_fn(y_train[:1], predictions).numpy()"
   ]
  },
  {
   "cell_type": "code",
   "execution_count": 15,
   "id": "845fe261",
   "metadata": {},
   "outputs": [],
   "source": [
    "model.compile(optimizer='adam',\n",
    "              loss=loss_fn,\n",
    "              metrics=['accuracy'])\n",
    "#it sets up the optimizer, loss function, and evaluation metric(s) to be used during the training process. "
   ]
  },
  {
   "cell_type": "code",
   "execution_count": 16,
   "id": "a497964b",
   "metadata": {},
   "outputs": [
    {
     "name": "stdout",
     "output_type": "stream",
     "text": [
      "Epoch 1/5\n",
      "1875/1875 [==============================] - 7s 3ms/step - loss: 0.2978 - accuracy: 0.9135\n",
      "Epoch 2/5\n",
      "1875/1875 [==============================] - 6s 3ms/step - loss: 0.1410 - accuracy: 0.9577\n",
      "Epoch 3/5\n",
      "1875/1875 [==============================] - 6s 3ms/step - loss: 0.1059 - accuracy: 0.9686\n",
      "Epoch 4/5\n",
      "1875/1875 [==============================] - 6s 3ms/step - loss: 0.0872 - accuracy: 0.9735\n",
      "Epoch 5/5\n",
      "1875/1875 [==============================] - 6s 3ms/step - loss: 0.0760 - accuracy: 0.9763\n"
     ]
    },
    {
     "data": {
      "text/plain": [
       "<keras.callbacks.History at 0x2409469cf40>"
      ]
     },
     "execution_count": 16,
     "metadata": {},
     "output_type": "execute_result"
    }
   ],
   "source": [
    "model.fit(x_train, y_train, epochs=5)"
   ]
  },
  {
   "cell_type": "code",
   "execution_count": 17,
   "id": "46f223d7",
   "metadata": {},
   "outputs": [
    {
     "name": "stdout",
     "output_type": "stream",
     "text": [
      "313/313 - 1s - loss: 0.0768 - accuracy: 0.9751 - 688ms/epoch - 2ms/step\n"
     ]
    },
    {
     "data": {
      "text/plain": [
       "[0.07684449106454849, 0.9750999808311462]"
      ]
     },
     "execution_count": 17,
     "metadata": {},
     "output_type": "execute_result"
    }
   ],
   "source": [
    "model.evaluate(x_test,  y_test, verbose=2)"
   ]
  },
  {
   "cell_type": "code",
   "execution_count": 18,
   "id": "09543861",
   "metadata": {},
   "outputs": [],
   "source": [
    "# return the model to probability \n",
    "probability_model = tf.keras.Sequential([\n",
    "  model,\n",
    "  tf.keras.layers.Softmax()\n",
    "])"
   ]
  },
  {
   "cell_type": "code",
   "execution_count": 19,
   "id": "ee8158f4",
   "metadata": {},
   "outputs": [
    {
     "data": {
      "text/plain": [
       "<tf.Tensor: shape=(5, 10), dtype=float32, numpy=\n",
       "array([[2.5408488e-07, 1.1359396e-08, 7.7320583e-05, 3.7399121e-04,\n",
       "        1.6709765e-12, 5.7179918e-08, 5.7417070e-12, 9.9954611e-01,\n",
       "        1.6981231e-06, 4.4856495e-07],\n",
       "       [1.1733506e-07, 1.7071143e-02, 9.8291910e-01, 7.7157229e-06,\n",
       "        5.0104882e-14, 1.3254248e-06, 3.8120828e-07, 7.6211149e-11,\n",
       "        2.3790112e-07, 1.0547075e-11],\n",
       "       [7.0392974e-07, 9.9944180e-01, 1.7152213e-05, 1.3947642e-05,\n",
       "        2.3891991e-05, 1.5617699e-05, 9.7876800e-06, 3.2315953e-04,\n",
       "        1.5267581e-04, 1.2227035e-06],\n",
       "       [9.9924833e-01, 9.4223559e-08, 1.5777786e-04, 2.9866512e-06,\n",
       "        3.2225026e-07, 5.4055795e-06, 4.6838468e-05, 1.7037269e-06,\n",
       "        8.5858193e-07, 5.3554145e-04],\n",
       "       [1.0642759e-06, 1.4067069e-09, 3.3508272e-06, 8.2990215e-07,\n",
       "        9.9599010e-01, 7.6356673e-07, 2.6747268e-06, 2.9668585e-05,\n",
       "        2.9099678e-07, 3.9712959e-03]], dtype=float32)>"
      ]
     },
     "execution_count": 19,
     "metadata": {},
     "output_type": "execute_result"
    }
   ],
   "source": [
    "probability_model(x_test[:5])# evaluate for first five data set"
   ]
  },
  {
   "cell_type": "markdown",
   "id": "1d17753c",
   "metadata": {},
   "source": [
    "logits refer to the raw, unnormalized output of a model before applying any activation function. Logits are usually obtained from the final layer of the model, representing the scores or values associated with each class in a classification problem."
   ]
  },
  {
   "cell_type": "code",
   "execution_count": null,
   "id": "93918608",
   "metadata": {},
   "outputs": [],
   "source": []
  }
 ],
 "metadata": {
  "kernelspec": {
   "display_name": "Python 3",
   "language": "python",
   "name": "python3"
  },
  "language_info": {
   "codemirror_mode": {
    "name": "ipython",
    "version": 3
   },
   "file_extension": ".py",
   "mimetype": "text/x-python",
   "name": "python",
   "nbconvert_exporter": "python",
   "pygments_lexer": "ipython3",
   "version": "3.8.8"
  }
 },
 "nbformat": 4,
 "nbformat_minor": 5
}
